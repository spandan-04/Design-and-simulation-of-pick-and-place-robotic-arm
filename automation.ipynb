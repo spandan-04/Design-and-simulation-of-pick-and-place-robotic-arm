{
  "nbformat": 4,
  "nbformat_minor": 0,
  "metadata": {
    "colab": {
      "provenance": [],
      "include_colab_link": true
    },
    "kernelspec": {
      "name": "python3",
      "display_name": "Python 3"
    },
    "language_info": {
      "name": "python"
    }
  },
  "cells": [
    {
      "cell_type": "markdown",
      "metadata": {
        "id": "view-in-github",
        "colab_type": "text"
      },
      "source": [
        "<a href=\"https://colab.research.google.com/github/spandan-04/Design-and-simulation-of-pick-and-place-robotic-arm/blob/main/automation.ipynb\" target=\"_parent\"><img src=\"https://colab.research.google.com/assets/colab-badge.svg\" alt=\"Open In Colab\"/></a>"
      ]
    },
    {
      "cell_type": "markdown",
      "source": [
        "Please put every value in SI unit"
      ],
      "metadata": {
        "id": "PbvjFT7HenM8"
      }
    },
    {
      "cell_type": "code",
      "source": [
        "import numpy as np\n",
        "# for fixed mass of link , finding Torque generated\n",
        "mass = float(input(\"Enter the mass of payload to be picked by robotic arm: \")) #0.1\n",
        "m1 = float(input(\"Enter the mass of link 1: \"))#0.5\n",
        "m2 = float(input(\"Enter the mass of link 2: \"))#0.414\n",
        "m3 = float(input(\"Enter the mass of link 3: \"))#0.38\n",
        "\n",
        "motorA = float(input(\"Enter the mass of motor 2: \")) #0.5\n",
        "motorB = float(input(\"Enter the mass of motor 3: \")) #0.25\n",
        "\n",
        "l1 = float(input(\"Enter the length of link 1: \")) #0.2\n",
        "l2 = float(input(\"Enter the length of link 2: \")) #0.15\n",
        "l3 = float(input(\"Enter the length of link 3: \")) #0.14\n",
        "\n",
        "g = 9.8\n",
        " # Troque at position 1 is T1 and at position 2 T2\n",
        "\n",
        "fB= (mass + m3 + motorB)*g\n",
        "fA = (mass + m3 + motorB + m2 + motorA)*g\n",
        "\n",
        "TB= (mass+(m3/2))*g*l3*1 # where T3= (mass+(m3/2))*g*l3*sin(alph2 + alph3)\n",
        "TA= (mass*g*(l3 + l2) + m3*g*(l3/2 + l2) + (motorB*g)*l2 + m2*g*l2/2)\n",
        "\n",
        "print(\" force at position A is fA: \",fA)\n",
        "print(\" force at position B is fB: \",fB)\n",
        "print(\"torque TB is : \",TB)\n",
        "print(\"torque TA is : \",TA)"
      ],
      "metadata": {
        "id": "90OcLVP9a50M"
      },
      "execution_count": null,
      "outputs": []
    },
    {
      "cell_type": "markdown",
      "source": [
        "calculating value of radius for above condition"
      ],
      "metadata": {
        "id": "L2EF_VSbfI8Y"
      }
    },
    {
      "cell_type": "code",
      "source": [
        "import numpy as np\n",
        "\n",
        "#mass = float(input(\"Enter the mass of payload to be picked by robotic arm: \"))\n",
        "\n",
        "m2 = float(input(\"Enter the mass of link 2: \"))\n",
        "m3 = float(input(\"Enter the mass of link 3: \"))\n",
        "\n",
        "density = float(input(\"Enter the desity of material\"))\n",
        "\n",
        "radius2= ((m2)/(density*3.14*l2))**(1/2)\n",
        "radius3= ((m3)/(density*3.14*l3))**(1/2)\n",
        "\n",
        "print(\"radius of link 2 is : \",radius2)\n",
        "print(\"radius of link 3 is : \",radius3)"
      ],
      "metadata": {
        "id": "EtDQYbOks7na"
      },
      "execution_count": null,
      "outputs": []
    },
    {
      "cell_type": "code",
      "source": [
        "import numpy as np\n",
        "# calculating length of link having torque of motor of both motor\n",
        "\n",
        "mass = float(input(\"Enter the mass of payload to be picked by robotic arm: \")) #0.1\n",
        "m1 = float(input(\"Enter the mass of link 1: \")) #0.5\n",
        "m2 = float(input(\"Enter the mass of link 2: \")) #0.414\n",
        "m3 = float(input(\"Enter the mass of link 3: \")) #0.38\n",
        "\n",
        "motorA = float(input(\"Enter the mass of motor 2: \")) #0.5\n",
        "motorB = float(input(\"Enter the mass of motor 3: \")) #0.25\n",
        "\n",
        "#l1 = float(input(\"Enter the length of link 1: \"))\n",
        "#l2 = float(input(\"Enter the length of link 2: \"))\n",
        "#l3 = float(input(\"Enter the length of link 3: \"))\n",
        "\n",
        "\n",
        "TA = float(input(\"Enter the torque of motor 1: \")) # 1.2509\n",
        "TB = float(input(\"Enter the torque of motor 2: \")) # 0.967\n",
        "\n",
        "g = 9.8\n",
        " # Troque at position 1 is T1 and at position 2 T2\n",
        "\n",
        "fB= (mass + m3 + motorB)*g\n",
        "fA =(mass + m3 + motorB + m2 + motorA)*g\n",
        "\n",
        "l3= (TB)/((mass+(m3/2)))*g\n",
        "\n",
        "l2= (TB-(mass+m3/2)*l3*g*1)/((mass+m2/2 + m3 + motorA + motorB)*g)*1\n",
        "\n",
        "print(\"force at position A is fA: \",fA)\n",
        "print(\"force at position B is fB: \",fB)\n",
        "print(\"length of link 1 is : \",l1)\n",
        "print(\"length of link 2 is : \",l2)"
      ],
      "metadata": {
        "id": "WnNvt8NxHieS"
      },
      "execution_count": null,
      "outputs": []
    },
    {
      "cell_type": "code",
      "source": [
        "import numpy as np\n",
        "# taking radius constant and torque const\n",
        "g=9.8\n",
        "d = float(input(\"Enter the density of material : \")) #2700\n",
        "r3= float(input(\"Enter the radius of joint 3: \"))\n",
        "r2= float(input(\"Enter the radius of joint 2: \"))\n",
        "\n",
        "motorA = float(input(\"Enter the mass of motor 2: \"))\n",
        "motorB = float(input(\"Enter the mass of motor 3: \"))\n",
        "\n",
        "mass = float(input(\"Enter the mass of payload to be picked by robotic arm: \"))\n",
        "\n",
        "TA = float(input(\"Enter the torque of motor a: \"))\n",
        "TB = float(input(\"Enter the torque of motor B: \"))\n",
        "\n",
        "a= (d*3.14*r3*r3)/2\n",
        "b=mass\n",
        "c= TB*(-1)\n",
        "\n",
        "\n",
        "l3= ( (-1)*b+( ((b*b)-4*a*c))**(1/2) )/2*a\n",
        "if l3<=0 :\n",
        "    print(\"Not possible\")\n",
        "\n",
        "m3=3.14*r3*r3*l3\n",
        "\n",
        "fB= (mass + m3 + motorB)*g\n",
        "\n",
        "\n",
        "A=d*3.14*r2*r2*g\n",
        "B=d*3.14*r3*r3*l3*9.8 + m3*9.8 - fB + mass*g\n",
        "C=mass*g*l3-TA + (d*3.14*r3*r3*l3*l3*g)/2\n",
        "\n",
        "l2= ( (-1)*B+( ((B*B)-4*A*C))**(1/2) )/2*A\n",
        "if l2<=0 :\n",
        "    print(\"Not possible\")\n",
        "\n",
        "m2=3.14*r2*r2*l2\n",
        "fA =(mass + m3 + motorB + m2 + motorA)*g\n",
        "\n",
        "print(\"length of link2 is ; \", '%.5f' %l2)\n",
        "print(\"length of link3 is ; \", '%.5f' %l3)"
      ],
      "metadata": {
        "colab": {
          "base_uri": "https://localhost:8080/"
        },
        "id": "-QtaRsZdRMBL",
        "outputId": "6dda8726-75e3-4c9e-ef22-12f8f45e9db3"
      },
      "execution_count": null,
      "outputs": [
        {
          "output_type": "stream",
          "name": "stdout",
          "text": [
            "Enter the density of material : 589\n",
            "Enter the radius of joint 3: 455\n",
            "Enter the radius of joint 2: 56\n",
            "Enter the mass of motor 2: 9523\n",
            "Enter the mass of motor 3: 6952\n",
            "Enter the mass of payload to be picked by robotic arm: 486\n",
            "Enter the torque of motor a: 9865\n",
            "Enter the torque of motor B: 6656\n",
            "Not possible\n",
            "length of link2 is ;  -3.516910121255042e+29\n",
            "length of link3 is ;  216057714351259.44\n"
          ]
        }
      ]
    },
    {
      "cell_type": "code",
      "source": [
        "import numpy as np\n",
        "#for taking length of shaft constant and taking fixed material density ,torque constant\n",
        "g=9.8\n",
        "d = float(input(\"Enter the density of material : \"))\n",
        "mass = float(input(\"Enter the mass of payload to be picked by robotic arm: \"))\n",
        "\n",
        "motorA = float(input(\"Enter the mass of motor 2: \"))\n",
        "motorB = float(input(\"Enter the mass of motor 3: \"))\n",
        "\n",
        "TA = float(input(\"Enter the torque of motor a: \"))\n",
        "TB = float(input(\"Enter the torque of motor B: \"))\n",
        "\n",
        "l1 = float(input(\"Enter the length of link 1: \"))\n",
        "l2 = float(input(\"Enter the length of link 2: \"))\n",
        "l3 = float(input(\"Enter the length of link 3: \"))\n",
        "\n",
        "r3=(2*(TB-mass*l3)/d*3.14*l3*l3)**(1/2)\n",
        "\n",
        "m3=3.14*r3*r3*l3\n",
        "\n",
        "fB= (mass + m3 + motorB)*g\n",
        "\n",
        "r2 = (TA-mass*g*(l3+l2)-d*3.14*r3*r3*l3*g*(l2+l3)-motorB*l2*g+fB*l2)**(1/2)\n",
        "\n",
        "m2=3.14*r2*r2*l2\n",
        "fA =(mass + m3 + motorB + m2 + motorA)*g\n",
        "\n",
        "print(\"radius of link2 is ; \", '%.5f' %r2)\n",
        "print(\"radius of link3 is ; \", '%.5f' %r3)"
      ],
      "metadata": {
        "colab": {
          "base_uri": "https://localhost:8080/"
        },
        "id": "euf0ETsYW2d9",
        "outputId": "26bd3627-3f18-4578-f978-3b5c492c37a1"
      },
      "execution_count": null,
      "outputs": [
        {
          "output_type": "stream",
          "name": "stdout",
          "text": [
            "Enter the density of material : 2700\n",
            "Enter the mass of payload to be picked by robotic arm: 0.1\n",
            "Enter the mass of motor 2: 0.25\n",
            "Enter the mass of motor 3: 0.25\n",
            "Enter the torque of motor a: 1.2509\n",
            "Enter the torque of motor B: 0.9677\n",
            "Enter the length of link 1: 0.7\n",
            "Enter the length of link 2: 0.15\n",
            "Enter the length of link 3: 0.14\n",
            "radius of link2 is ;  0.98340\n",
            "radius of link3 is ;  0.00659\n"
          ]
        }
      ]
    },
    {
      "cell_type": "markdown",
      "source": [
        "calculating factor of saftey"
      ],
      "metadata": {
        "id": "QbvWQYSRehWC"
      }
    },
    {
      "cell_type": "code",
      "source": [
        "import numpy as np\n",
        "#for taking length of shaft constant\n",
        "g=9.8\n",
        "d = 2700 #float(input(\"Enter the density of material : \"))\n",
        "mass = 0.1 #float(input(\"Enter the mass of payload to be picked by robotic arm: \"))\n",
        "\n",
        "m1 = 0.4 #float(input(\"Enter the mass of link 1: \"))\n",
        "m2 = 0.5#float(input(\"Enter the mass of link 2: \"))\n",
        "m3 =0.38# float(input(\"Enter the mass of link 3: \"))\n",
        "\n",
        "# motorA = float(input(\"Enter the mass of motor 2: \"))\n",
        "motorB = 0.25#float(input(\"Enter the mass of motor 3: \"))\n",
        "\n",
        "TA = float(input(\"Enter the torque of motor a: \")) #1.25\n",
        "# TB = float(input(\"Enter the torque of motor B: \"))\n",
        "\n",
        "l1 = 0.2#float(input(\"Enter the length of link 1: \"))\n",
        "l2 =0.15# float(input(\"Enter the length of link 2: \"))\n",
        "l3 = 0.14#float(input(\"Enter the length of link 3: \"))\n",
        "\n",
        "dia= 0.025#float(input(\"Enter the diameter of base shaft: \"))\n",
        "\n",
        "w= float(input(\"Enter the vlue of angular frequency: \"))\n",
        "Fc2 = (m2*l2*(w**2)*l2*g)/2\n",
        "Fc3 = (m3*(l3/2 + l2)*w*w*g )\n",
        "FcB = motorB*l2*g*w*w\n",
        "Fcm = mass*g*(l3 + l2)*(w**2)\n",
        "torque = (Fc2 + Fc3 + FcB + Fcm)*l1 + TA\n",
        "bending = (32*torque)/(3.14*dia*dia*dia)\n",
        "\n",
        "Fos = (0.18*310000000)/bending\n",
        "print(\"fc2\",Fc2)\n",
        "print(\"fc3\",Fc3)\n",
        "print(\"fcB\",FcB)\n",
        "print(\"fcm\",Fcm)\n",
        "print(\"torque\",torque)\n",
        "print(\"bending\",bending)\n",
        "print(\"Factor of safety is: \", Fos)"
      ],
      "metadata": {
        "colab": {
          "base_uri": "https://localhost:8080/"
        },
        "id": "YNOod5Jref86",
        "outputId": "a453c96f-2e81-4e5f-8e57-7f0cb0b5ab49"
      },
      "execution_count": null,
      "outputs": [
        {
          "output_type": "stream",
          "name": "stdout",
          "text": [
            "Enter the torque of motor a: 1.2509\n",
            "Enter the vlue of angular frequency: 8.73\n",
            "fc2 4.2012361125\n",
            "fc3 62.43970471200002\n",
            "fcB 28.008240750000002\n",
            "fcm 21.659706180000008\n",
            "torque 24.51267755090001\n",
            "bending 15987886.504536055\n",
            "Factor of safety is:  3.4901423639809126\n"
          ]
        }
      ]
    }
  ]
}